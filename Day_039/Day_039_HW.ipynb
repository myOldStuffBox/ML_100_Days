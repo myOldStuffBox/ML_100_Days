{
 "cells": [
  {
   "cell_type": "markdown",
   "source": [
    "## [作業重點]\n",
    "清楚了解 L1, L2 的意義與差異為何，並了解 LASSO 與 Ridge 之間的差異與使用情境"
   ],
   "metadata": {}
  },
  {
   "cell_type": "markdown",
   "source": [
    "## 作業"
   ],
   "metadata": {}
  },
  {
   "cell_type": "markdown",
   "source": [
    "# 請閱讀相關文獻，並回答下列問題\r\n",
    "\r\n",
    "[脊回歸 (Ridge Regression)](https://blog.csdn.net/daunxx/article/details/51578787)\r\n",
    "[Linear, Ridge, Lasso Regression 本質區別](https://www.zhihu.com/question/38121173)\r\n",
    "\r\n",
    "## 1. LASSO 回歸可以被用來作為 Feature selection 的工具，請了解 LASSO 模型為什麼可用來作 Feature selection\r\n",
    "## 2. 當自變數 (X) 存在高度共線性時，Ridge Regression 可以處理這樣的問題嗎?\r\n"
   ],
   "metadata": {}
  },
  {
   "cell_type": "markdown",
   "source": [
    "##"
   ],
   "metadata": {}
  },
  {
   "cell_type": "markdown",
   "source": [
    "##"
   ],
   "metadata": {}
  },
  {
   "cell_type": "markdown",
   "source": [
    "##\r\n",
    "# Ans1 : \r\n",
    "## 先說 LASSO 和 Ridge 都可以縮小回歸計算中的係數weight( w )，但 LASSO 更可以把 w 縮小到 0\r\n",
    "## 也就是說，縮小到 0 時，也代表此特徵不會有作用，等於被篩選掉了，所以 LASSO 可拿來做 Feature Selection\r\n",
    " "
   ],
   "metadata": {}
  },
  {
   "cell_type": "markdown",
   "source": [
    "# Ans2 :\r\n",
    "## 可以，我覺得主要是因為 Ridge 可以縮小 w 使每個 feature 的影響不會太巨大\r\n",
    "## 因為縮小了feature 的影響力後，就算其有高度共線性，也沒辦法造成太大影響。"
   ],
   "metadata": {}
  }
 ],
 "metadata": {
  "kernelspec": {
   "display_name": "Python 3",
   "language": "python",
   "name": "python3"
  },
  "language_info": {
   "codemirror_mode": {
    "name": "ipython",
    "version": 3
   },
   "file_extension": ".py",
   "mimetype": "text/x-python",
   "name": "python",
   "nbconvert_exporter": "python",
   "pygments_lexer": "ipython3",
   "version": "3.6.2"
  }
 },
 "nbformat": 4,
 "nbformat_minor": 2
}