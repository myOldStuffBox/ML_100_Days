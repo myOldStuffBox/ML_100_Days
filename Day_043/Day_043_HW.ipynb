{
 "cells": [
  {
   "cell_type": "markdown",
   "source": [
    "## [作業重點]\n",
    "了解隨機森林改善了決策樹的什麼缺點？是用什麼方法改進的？"
   ],
   "metadata": {}
  },
  {
   "cell_type": "markdown",
   "source": [
    "## 作業\n",
    "\n",
    "閱讀以下兩篇文獻，了解隨機森林原理，並試著回答後續的思考問題\n",
    "- [隨機森林 (random forest) - 中文](http://hhtucode.blogspot.tw/2013/06/ml-random-forest.html)\n",
    "- [how random forest works - 英文](https://medium.com/@Synced/how-random-forest-algorithm-works-in-machine-learning-3c0fe15b6674)"
   ],
   "metadata": {}
  },
  {
   "cell_type": "markdown",
   "source": [
    "\r\n",
    "## 1. 隨機森林中的每一棵樹，是希望能夠\r\n",
    "\r\n",
    "##     - 沒有任何限制，讓樹可以持續生長 (讓樹生成很深，讓模型變得複雜)\r\n",
    "    \r\n",
    "##     - 不要過度生長，避免 Overfitting\r\n",
    "## \r\n",
    "    \r\n",
    "## 2. 假設總共有 N 筆資料，每棵樹用取後放回的方式抽了總共 N 筆資料生成，請問這棵樹大約使用了多少 % 不重複的原資料生成?\r\n",
    "hint: 0.632 bootstrap\r\n"
   ],
   "metadata": {}
  },
  {
   "cell_type": "markdown",
   "source": [
    "##"
   ],
   "metadata": {}
  },
  {
   "cell_type": "markdown",
   "source": [
    "##"
   ],
   "metadata": {}
  },
  {
   "cell_type": "markdown",
   "source": [
    "# ANS1 : \r\n",
    "## 隨機森林的樹可任意生長，不須剪枝，因為最後有投票和平均，所以隨機森林也可以有效預防 Overfitting"
   ],
   "metadata": {}
  },
  {
   "cell_type": "markdown",
   "source": [
    "# ANS2 : \r\n",
    "## 有[N]筆資料，且生成了[N]個訓練集資料(也就是有放回地抽樣了[N]次)\r\n",
    "## 這樣每筆資料被抽中的機率為[1/N]，沒被抽中的機率為[1-1/N]，所以完全都沒被抽中的資料機率為[(1-1/N)^N]\r\n",
    "## 如[N]很大時，當成區近於無限 計算極限，可算出[lim(1-1/N)^N]會等於[e^-1]也就是[0.368]\r\n",
    "## -\r\n",
    "## --所以沒有被選中為訓練集的資料佔[0.368]==[36.8%]\r\n",
    "## --總是被選為訓練集的資料佔原資料的[0.632]==[63.2%]"
   ],
   "metadata": {}
  }
 ],
 "metadata": {
  "kernelspec": {
   "display_name": "Python 3",
   "language": "python",
   "name": "python3"
  },
  "language_info": {
   "codemirror_mode": {
    "name": "ipython",
    "version": 3
   },
   "file_extension": ".py",
   "mimetype": "text/x-python",
   "name": "python",
   "nbconvert_exporter": "python",
   "pygments_lexer": "ipython3",
   "version": "3.6.2"
  }
 },
 "nbformat": 4,
 "nbformat_minor": 2
}