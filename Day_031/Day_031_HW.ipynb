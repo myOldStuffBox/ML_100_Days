{
 "cells": [
  {
   "cell_type": "markdown",
   "source": [
    "# 作業 : (Kaggle)鐵達尼生存預測"
   ],
   "metadata": {
    "collapsed": true
   }
  },
  {
   "cell_type": "markdown",
   "source": [
    "# [作業目標]\n",
    "- 試著模仿範例寫法, 在鐵達尼生存預測中, 練習特徵重要性的寫作與觀察"
   ],
   "metadata": {}
  },
  {
   "cell_type": "markdown",
   "source": [
    "# [作業重點]\n",
    "- 仿造範例, 完成特徵重要性的計算, 並觀察對預測結果的影響 (In[3]~[5], Out[3]~[5]) \n",
    "- 仿造範例, 將兩個特徵重要性最高的特徵重組出新特徵, 並觀察對預測結果的影響 (In[8], Out[8]) "
   ],
   "metadata": {}
  },
  {
   "cell_type": "code",
   "execution_count": 58,
   "source": [
    "# 做完特徵工程前的所有準備 (與前範例相同)\r\n",
    "import pandas as pd\r\n",
    "import numpy as np\r\n",
    "import copy\r\n",
    "from sklearn.preprocessing import LabelEncoder, MinMaxScaler\r\n",
    "from sklearn.model_selection import cross_val_score\r\n",
    "from sklearn.ensemble import RandomForestClassifier\r\n",
    "import warnings\r\n",
    "warnings.filterwarnings('ignore')\r\n",
    "\r\n",
    "data_path = 'data/'\r\n",
    "df = pd.read_csv(data_path + 'titanic_train.csv')\r\n",
    "\r\n",
    "train_Y = df['Survived']                            # 取出目標值\r\n",
    "df = df.drop(['PassengerId', 'Survived'] , axis=1)  # 刪除[乘客ID , 目標值]欄位\r\n",
    "df.head()"
   ],
   "outputs": [
    {
     "output_type": "execute_result",
     "data": {
      "text/plain": [
       "   Pclass                                               Name     Sex   Age  \\\n",
       "0       3                            Braund, Mr. Owen Harris    male  22.0   \n",
       "1       1  Cumings, Mrs. John Bradley (Florence Briggs Th...  female  38.0   \n",
       "2       3                             Heikkinen, Miss. Laina  female  26.0   \n",
       "3       1       Futrelle, Mrs. Jacques Heath (Lily May Peel)  female  35.0   \n",
       "4       3                           Allen, Mr. William Henry    male  35.0   \n",
       "\n",
       "   SibSp  Parch            Ticket     Fare Cabin Embarked  \n",
       "0      1      0         A/5 21171   7.2500   NaN        S  \n",
       "1      1      0          PC 17599  71.2833   C85        C  \n",
       "2      0      0  STON/O2. 3101282   7.9250   NaN        S  \n",
       "3      1      0            113803  53.1000  C123        S  \n",
       "4      0      0            373450   8.0500   NaN        S  "
      ],
      "text/html": [
       "<div>\n",
       "<style scoped>\n",
       "    .dataframe tbody tr th:only-of-type {\n",
       "        vertical-align: middle;\n",
       "    }\n",
       "\n",
       "    .dataframe tbody tr th {\n",
       "        vertical-align: top;\n",
       "    }\n",
       "\n",
       "    .dataframe thead th {\n",
       "        text-align: right;\n",
       "    }\n",
       "</style>\n",
       "<table border=\"1\" class=\"dataframe\">\n",
       "  <thead>\n",
       "    <tr style=\"text-align: right;\">\n",
       "      <th></th>\n",
       "      <th>Pclass</th>\n",
       "      <th>Name</th>\n",
       "      <th>Sex</th>\n",
       "      <th>Age</th>\n",
       "      <th>SibSp</th>\n",
       "      <th>Parch</th>\n",
       "      <th>Ticket</th>\n",
       "      <th>Fare</th>\n",
       "      <th>Cabin</th>\n",
       "      <th>Embarked</th>\n",
       "    </tr>\n",
       "  </thead>\n",
       "  <tbody>\n",
       "    <tr>\n",
       "      <th>0</th>\n",
       "      <td>3</td>\n",
       "      <td>Braund, Mr. Owen Harris</td>\n",
       "      <td>male</td>\n",
       "      <td>22.0</td>\n",
       "      <td>1</td>\n",
       "      <td>0</td>\n",
       "      <td>A/5 21171</td>\n",
       "      <td>7.2500</td>\n",
       "      <td>NaN</td>\n",
       "      <td>S</td>\n",
       "    </tr>\n",
       "    <tr>\n",
       "      <th>1</th>\n",
       "      <td>1</td>\n",
       "      <td>Cumings, Mrs. John Bradley (Florence Briggs Th...</td>\n",
       "      <td>female</td>\n",
       "      <td>38.0</td>\n",
       "      <td>1</td>\n",
       "      <td>0</td>\n",
       "      <td>PC 17599</td>\n",
       "      <td>71.2833</td>\n",
       "      <td>C85</td>\n",
       "      <td>C</td>\n",
       "    </tr>\n",
       "    <tr>\n",
       "      <th>2</th>\n",
       "      <td>3</td>\n",
       "      <td>Heikkinen, Miss. Laina</td>\n",
       "      <td>female</td>\n",
       "      <td>26.0</td>\n",
       "      <td>0</td>\n",
       "      <td>0</td>\n",
       "      <td>STON/O2. 3101282</td>\n",
       "      <td>7.9250</td>\n",
       "      <td>NaN</td>\n",
       "      <td>S</td>\n",
       "    </tr>\n",
       "    <tr>\n",
       "      <th>3</th>\n",
       "      <td>1</td>\n",
       "      <td>Futrelle, Mrs. Jacques Heath (Lily May Peel)</td>\n",
       "      <td>female</td>\n",
       "      <td>35.0</td>\n",
       "      <td>1</td>\n",
       "      <td>0</td>\n",
       "      <td>113803</td>\n",
       "      <td>53.1000</td>\n",
       "      <td>C123</td>\n",
       "      <td>S</td>\n",
       "    </tr>\n",
       "    <tr>\n",
       "      <th>4</th>\n",
       "      <td>3</td>\n",
       "      <td>Allen, Mr. William Henry</td>\n",
       "      <td>male</td>\n",
       "      <td>35.0</td>\n",
       "      <td>0</td>\n",
       "      <td>0</td>\n",
       "      <td>373450</td>\n",
       "      <td>8.0500</td>\n",
       "      <td>NaN</td>\n",
       "      <td>S</td>\n",
       "    </tr>\n",
       "  </tbody>\n",
       "</table>\n",
       "</div>"
      ]
     },
     "metadata": {},
     "execution_count": 58
    }
   ],
   "metadata": {}
  },
  {
   "cell_type": "code",
   "execution_count": 59,
   "source": [
    "'''\r\n",
    "# 因為需要把類別型與數值型特徵都加入, 故使用最簡版的特徵工程\r\n",
    "LEncoder = LabelEncoder()\r\n",
    "MMEncoder = MinMaxScaler()\r\n",
    "for c in df.columns:\r\n",
    "    df[c] = df[c].fillna(-1)\r\n",
    "    if df[c].dtype == 'object':\r\n",
    "        df[c] = LEncoder.fit_transform(list(df[c].values))\r\n",
    "    df[c] = MMEncoder.fit_transform(df[c].values.reshape(-1, 1))\r\n",
    "df.head()\r\n",
    "'''"
   ],
   "outputs": [
    {
     "output_type": "execute_result",
     "data": {
      "text/plain": [
       "\"\\n# 因為需要把類別型與數值型特徵都加入, 故使用最簡版的特徵工程\\nLEncoder = LabelEncoder()\\nMMEncoder = MinMaxScaler()\\nfor c in df.columns:\\n    df[c] = df[c].fillna(-1)\\n    if df[c].dtype == 'object':\\n        df[c] = LEncoder.fit_transform(list(df[c].values))\\n    df[c] = MMEncoder.fit_transform(df[c].values.reshape(-1, 1))\\ndf.head()\\n\""
      ]
     },
     "metadata": {},
     "execution_count": 59
    }
   ],
   "metadata": {}
  },
  {
   "cell_type": "code",
   "execution_count": 60,
   "source": [
    "# 我自己的想法，把類別型欄位缺值補'None'，再補數值型欄位缺值為[-1] \r\n",
    "# // 因為不太懂為何要使用[ list(df[c].values) ]，應該說要如何使用  \r\n",
    "# // 有測試過兩者差別，分數差不多\r\n",
    "\r\n",
    "LEncoder = LabelEncoder()                                        # 設定 LabelEncoding\r\n",
    "MMEncoder = MinMaxScaler()                                       # 設定最大最小化\r\n",
    "for c in df.columns:\r\n",
    "    if df[c].dtype == 'object':                                  # 篩選出類別型欄位\r\n",
    "        df[c] = df[c].fillna('None')                             # 填補缺值為['None]\r\n",
    "        df[c] = LEncoder.fit_transform(df[c])       # 進行 LabelEncoding\r\n",
    "\r\n",
    "    df[c] = df[c].fillna(-1)                                     # 填補數值型欄位缺值為[-1]\r\n",
    "\r\n",
    "    # 這邊其實可以'不用'特別做最大最小化，因為後面要計算時還會再做\r\n",
    "    df[c] = MMEncoder.fit_transform(df[c].values.reshape(-1, 1)) # 進行最大最小化 \r\n",
    "    \r\n",
    "df.head()"
   ],
   "outputs": [
    {
     "output_type": "execute_result",
     "data": {
      "text/plain": [
       "   Pclass      Name  Sex       Age  SibSp  Parch    Ticket      Fare  \\\n",
       "0     1.0  0.121348  1.0  0.283951  0.125    0.0  0.769118  0.014151   \n",
       "1     0.0  0.213483  0.0  0.481481  0.125    0.0  0.876471  0.139136   \n",
       "2     1.0  0.396629  0.0  0.333333  0.000    0.0  0.983824  0.015469   \n",
       "3     0.0  0.305618  0.0  0.444444  0.125    0.0  0.072059  0.103644   \n",
       "4     1.0  0.016854  1.0  0.444444  0.000    0.0  0.694118  0.015713   \n",
       "\n",
       "      Cabin  Embarked  \n",
       "0  0.993197       1.0  \n",
       "1  0.551020       0.0  \n",
       "2  0.993197       1.0  \n",
       "3  0.374150       1.0  \n",
       "4  0.993197       1.0  "
      ],
      "text/html": [
       "<div>\n",
       "<style scoped>\n",
       "    .dataframe tbody tr th:only-of-type {\n",
       "        vertical-align: middle;\n",
       "    }\n",
       "\n",
       "    .dataframe tbody tr th {\n",
       "        vertical-align: top;\n",
       "    }\n",
       "\n",
       "    .dataframe thead th {\n",
       "        text-align: right;\n",
       "    }\n",
       "</style>\n",
       "<table border=\"1\" class=\"dataframe\">\n",
       "  <thead>\n",
       "    <tr style=\"text-align: right;\">\n",
       "      <th></th>\n",
       "      <th>Pclass</th>\n",
       "      <th>Name</th>\n",
       "      <th>Sex</th>\n",
       "      <th>Age</th>\n",
       "      <th>SibSp</th>\n",
       "      <th>Parch</th>\n",
       "      <th>Ticket</th>\n",
       "      <th>Fare</th>\n",
       "      <th>Cabin</th>\n",
       "      <th>Embarked</th>\n",
       "    </tr>\n",
       "  </thead>\n",
       "  <tbody>\n",
       "    <tr>\n",
       "      <th>0</th>\n",
       "      <td>1.0</td>\n",
       "      <td>0.121348</td>\n",
       "      <td>1.0</td>\n",
       "      <td>0.283951</td>\n",
       "      <td>0.125</td>\n",
       "      <td>0.0</td>\n",
       "      <td>0.769118</td>\n",
       "      <td>0.014151</td>\n",
       "      <td>0.993197</td>\n",
       "      <td>1.0</td>\n",
       "    </tr>\n",
       "    <tr>\n",
       "      <th>1</th>\n",
       "      <td>0.0</td>\n",
       "      <td>0.213483</td>\n",
       "      <td>0.0</td>\n",
       "      <td>0.481481</td>\n",
       "      <td>0.125</td>\n",
       "      <td>0.0</td>\n",
       "      <td>0.876471</td>\n",
       "      <td>0.139136</td>\n",
       "      <td>0.551020</td>\n",
       "      <td>0.0</td>\n",
       "    </tr>\n",
       "    <tr>\n",
       "      <th>2</th>\n",
       "      <td>1.0</td>\n",
       "      <td>0.396629</td>\n",
       "      <td>0.0</td>\n",
       "      <td>0.333333</td>\n",
       "      <td>0.000</td>\n",
       "      <td>0.0</td>\n",
       "      <td>0.983824</td>\n",
       "      <td>0.015469</td>\n",
       "      <td>0.993197</td>\n",
       "      <td>1.0</td>\n",
       "    </tr>\n",
       "    <tr>\n",
       "      <th>3</th>\n",
       "      <td>0.0</td>\n",
       "      <td>0.305618</td>\n",
       "      <td>0.0</td>\n",
       "      <td>0.444444</td>\n",
       "      <td>0.125</td>\n",
       "      <td>0.0</td>\n",
       "      <td>0.072059</td>\n",
       "      <td>0.103644</td>\n",
       "      <td>0.374150</td>\n",
       "      <td>1.0</td>\n",
       "    </tr>\n",
       "    <tr>\n",
       "      <th>4</th>\n",
       "      <td>1.0</td>\n",
       "      <td>0.016854</td>\n",
       "      <td>1.0</td>\n",
       "      <td>0.444444</td>\n",
       "      <td>0.000</td>\n",
       "      <td>0.0</td>\n",
       "      <td>0.694118</td>\n",
       "      <td>0.015713</td>\n",
       "      <td>0.993197</td>\n",
       "      <td>1.0</td>\n",
       "    </tr>\n",
       "  </tbody>\n",
       "</table>\n",
       "</div>"
      ]
     },
     "metadata": {},
     "execution_count": 60
    }
   ],
   "metadata": {}
  },
  {
   "cell_type": "code",
   "execution_count": 61,
   "source": [
    "# 隨機森林擬合後, 將結果依照重要性由高到低排序\r\n",
    "estimator = RandomForestClassifier()                    # 設定隨機森林\r\n",
    "estimator.fit(df.values, train_Y)                       # 進行 fit 計算\r\n",
    "feats = pd.Series(data=estimator.feature_importances_, index=df.columns)    # 將特徵重要型，和其特徵名稱合成 Series\r\n",
    "feats = feats.sort_values(ascending=False)              # 將 [特徵重要性] 由高到低排序\r\n",
    "\r\n",
    "feats"
   ],
   "outputs": [
    {
     "output_type": "execute_result",
     "data": {
      "text/plain": [
       "Sex         0.248878\n",
       "Ticket      0.159987\n",
       "Name        0.141488\n",
       "Fare        0.130106\n",
       "Age         0.109757\n",
       "Cabin       0.071357\n",
       "Pclass      0.056690\n",
       "SibSp       0.030766\n",
       "Parch       0.030739\n",
       "Embarked    0.020233\n",
       "dtype: float64"
      ]
     },
     "metadata": {},
     "execution_count": 61
    }
   ],
   "metadata": {}
  },
  {
   "cell_type": "markdown",
   "source": [
    "## 先用隨機森林對鐵達尼生存預測做訓練，再用其特徵重要性回答下列問題\r\n",
    "\r\n",
    "# 作業1\r\n",
    "* 將特徵重要性較低的一半特徵刪除後，再做生存率預估，正確率是否有變化?"
   ],
   "metadata": {}
  },
  {
   "cell_type": "markdown",
   "source": [
    "# Ans : \r\n",
    "## 假如只取前五名，分數比原始特徵低，但取前七名會比原始特徵高。\r\n"
   ],
   "metadata": {}
  },
  {
   "cell_type": "code",
   "execution_count": 62,
   "source": [
    "# 高重要性特徵(前五名、一半) + 隨機森林\r\n",
    "high_feature = list(feats[:5].index)                        # 將[特徵重要性]較高的前半段取出\r\n",
    "\r\n",
    "train_X = MMEncoder.fit_transform(df[high_feature])         # 做最大最小化 \r\n",
    "cross_val_score(estimator, train_X, train_Y, cv=5).mean()   # 計算交叉分數"
   ],
   "outputs": [
    {
     "output_type": "execute_result",
     "data": {
      "text/plain": [
       "0.8204130311970372"
      ]
     },
     "metadata": {},
     "execution_count": 62
    }
   ],
   "metadata": {}
  },
  {
   "cell_type": "code",
   "execution_count": 63,
   "source": [
    "# 高重要性特徵(前7名)\r\n",
    "high_feature = list(feats[:7].index)\r\n",
    "train_X = MMEncoder.fit_transform(df[high_feature])\r\n",
    "cross_val_score(estimator, train_X, train_Y, cv=5).mean() "
   ],
   "outputs": [
    {
     "output_type": "execute_result",
     "data": {
      "text/plain": [
       "0.8227041616973196"
      ]
     },
     "metadata": {},
     "execution_count": 63
    }
   ],
   "metadata": {}
  },
  {
   "cell_type": "code",
   "execution_count": 64,
   "source": [
    "# 原始特徵 + 隨機森林\r\n",
    "train_X = MMEncoder.fit_transform(df)\r\n",
    "cross_val_score(estimator, train_X, train_Y, cv=5).mean()"
   ],
   "outputs": [
    {
     "output_type": "execute_result",
     "data": {
      "text/plain": [
       "0.824938798568828"
      ]
     },
     "metadata": {},
     "execution_count": 64
    }
   ],
   "metadata": {
    "collapsed": true
   }
  },
  {
   "cell_type": "markdown",
   "source": [
    "# 作業2\r\n",
    "* 將特徵重要性最高的兩個特徵做特徵組合，是否能再進一步提升預測力?"
   ],
   "metadata": {}
  },
  {
   "cell_type": "markdown",
   "source": [
    "# Ans : \r\n",
    "## 根據我的結果，分數有稍許的提升"
   ],
   "metadata": {}
  },
  {
   "cell_type": "code",
   "execution_count": 69,
   "source": [
    "# 觀察重要特徵與目標的分布\r\n",
    "# 第一名              \r\n",
    "import seaborn as sns\r\n",
    "import matplotlib.pyplot as plt\r\n",
    "sns.regplot(x=train_Y, y=df['Sex'], fit_reg=False)     # # 畫回歸線圖 // fit_reg 指是否畫出回歸線\r\n",
    "plt.show()  \r\n",
    "\r\n",
    "# 小提琴圖 : 類似 boxplot\r\n",
    "sns.violinplot(x=train_Y, y=df['Sex'], fit_reg=False, scale=\"width\")     # scale='width'，為每把小提琴都有相同寬度\r\n",
    "plt.show()  "
   ],
   "outputs": [
    {
     "output_type": "display_data",
     "data": {
      "text/plain": [
       "<Figure size 432x288 with 1 Axes>"
      ],
      "image/png": "[encoded data removed]"
     },
     "metadata": {
      "needs_background": "light"
     }
    },
    {
     "output_type": "display_data",
     "data": {
      "text/plain": [
       "<Figure size 432x288 with 1 Axes>"
      ],
      "image/png": "[encoded data removed]"
     },
     "metadata": {
      "needs_background": "light"
     }
    }
   ],
   "metadata": {
    "collapsed": true
   }
  },
  {
   "cell_type": "code",
   "execution_count": 70,
   "source": [
    "# 第二名       \r\n",
    "sns.regplot(x=train_Y, y=df['Ticket'], fit_reg=False)\r\n",
    "plt.show()\r\n",
    "\r\n",
    "sns.violinplot(x=train_Y, y=df['Ticket'], fit_reg=False, scale='width')"
   ],
   "outputs": [
    {
     "output_type": "display_data",
     "data": {
      "text/plain": [
       "<Figure size 432x288 with 1 Axes>"
      ],
      "image/png": "[encoded data removed]"
     },
     "metadata": {
      "needs_background": "light"
     }
    },
    {
     "output_type": "execute_result",
     "data": {
      "text/plain": [
       "<matplotlib.axes._subplots.AxesSubplot at 0x150e0035548>"
      ]
     },
     "metadata": {},
     "execution_count": 70
    },
    {
     "output_type": "display_data",
     "data": {
      "text/plain": [
       "<Figure size 432x288 with 1 Axes>"
      ],
      "image/png": "[encoded data removed]"
     },
     "metadata": {
      "needs_background": "light"
     }
    }
   ],
   "metadata": {
    "collapsed": true
   }
  },
  {
   "cell_type": "code",
   "execution_count": 67,
   "source": [
    "# 製作新特徵看效果\r\n",
    "df['newf_1'] = (df['Sex']+df['Ticket'])/2                       # 相加/2\r\n",
    "df['newf_2'] = df['Sex']*df['Ticket']                           # 相乘\r\n",
    "df['newf_3'] = df['Sex']/(df['Ticket']+1) *2                    # 2 * x1/(x2+1)\r\n",
    "df['newf_4'] = df['Ticket']/(df['Sex']+1) *2                    # 2 * x2/(x1+1)\r\n",
    "df['newf_5'] = ((df['Sex'])**2+(df['Ticket'])**2)**0.5          # ( x1^2 + x2^2 )^0.5\r\n",
    "\r\n",
    "train_X = MMEncoder.fit_transform(df)\r\n",
    "cross_val_score(estimator, train_X, train_Y, cv=5).mean()"
   ],
   "outputs": [
    {
     "output_type": "execute_result",
     "data": {
      "text/plain": [
       "0.8350134957002071"
      ]
     },
     "metadata": {},
     "execution_count": 67
    }
   ],
   "metadata": {
    "collapsed": true
   }
  },
  {
   "cell_type": "code",
   "execution_count": null,
   "source": [],
   "outputs": [],
   "metadata": {
    "collapsed": true
   }
  }
 ],
 "metadata": {
  "kernelspec": {
   "name": "python3",
   "display_name": "Python 3.7.6 64-bit ('base': conda)"
  },
  "language_info": {
   "codemirror_mode": {
    "name": "ipython",
    "version": 3
   },
   "file_extension": ".py",
   "mimetype": "text/x-python",
   "name": "python",
   "nbconvert_exporter": "python",
   "pygments_lexer": "ipython3",
   "version": "3.7.6"
  },
  "interpreter": {
   "hash": "02963059bcfe9ec13866d8bbde8ec3e30f8393cff7234988bdd62b85a7bebcd1"
  }
 },
 "nbformat": 4,
 "nbformat_minor": 2
}