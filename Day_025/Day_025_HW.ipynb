{
 "cells": [
  {
   "cell_type": "markdown",
   "metadata": {
    "collapsed": true
   },
   "source": [
    "# 作業 : (Kaggle)鐵達尼生存預測\n",
    "https://www.kaggle.com/c/titanic"
   ]
  },
  {
   "cell_type": "markdown",
   "metadata": {},
   "source": [
    "# [作業目標]\n",
    "- 試著模仿範例寫法, 在鐵達尼生存預測中, 觀察均值編碼的效果"
   ]
  },
  {
   "cell_type": "markdown",
   "metadata": {},
   "source": [
    "# [作業重點]\n",
    "- 仿造範例, 完成標籤編碼與均值編碼搭配邏輯斯迴歸的預測\n",
    "- 觀察標籤編碼與均值編碼在特徵數量 / 邏輯斯迴歸分數 / 邏輯斯迴歸時間上, 分別有什麼影響 (In[3], Out[3], In[4], Out[4]) "
   ]
  },
  {
   "cell_type": "markdown",
   "metadata": {
    "collapsed": true
   },
   "source": [
    "# 作業1\n",
    "* 請仿照範例，將鐵達尼範例中的類別型特徵改用均值編碼實作一次"
   ]
  },
  {
   "cell_type": "code",
   "execution_count": 2,
   "metadata": {},
   "outputs": [
    {
     "output_type": "execute_result",
     "data": {
      "text/plain": [
       "   Pclass                                               Name     Sex   Age  \\\n",
       "0       3                            Braund, Mr. Owen Harris    male  22.0   \n",
       "1       1  Cumings, Mrs. John Bradley (Florence Briggs Th...  female  38.0   \n",
       "2       3                             Heikkinen, Miss. Laina  female  26.0   \n",
       "3       1       Futrelle, Mrs. Jacques Heath (Lily May Peel)  female  35.0   \n",
       "4       3                           Allen, Mr. William Henry    male  35.0   \n",
       "\n",
       "   SibSp  Parch            Ticket     Fare Cabin Embarked  \n",
       "0      1      0         A/5 21171   7.2500   NaN        S  \n",
       "1      1      0          PC 17599  71.2833   C85        C  \n",
       "2      0      0  STON/O2. 3101282   7.9250   NaN        S  \n",
       "3      1      0            113803  53.1000  C123        S  \n",
       "4      0      0            373450   8.0500   NaN        S  "
      ],
      "text/html": "<div>\n<style scoped>\n    .dataframe tbody tr th:only-of-type {\n        vertical-align: middle;\n    }\n\n    .dataframe tbody tr th {\n        vertical-align: top;\n    }\n\n    .dataframe thead th {\n        text-align: right;\n    }\n</style>\n<table border=\"1\" class=\"dataframe\">\n  <thead>\n    <tr style=\"text-align: right;\">\n      <th></th>\n      <th>Pclass</th>\n      <th>Name</th>\n      <th>Sex</th>\n      <th>Age</th>\n      <th>SibSp</th>\n      <th>Parch</th>\n      <th>Ticket</th>\n      <th>Fare</th>\n      <th>Cabin</th>\n      <th>Embarked</th>\n    </tr>\n  </thead>\n  <tbody>\n    <tr>\n      <th>0</th>\n      <td>3</td>\n      <td>Braund, Mr. Owen Harris</td>\n      <td>male</td>\n      <td>22.0</td>\n      <td>1</td>\n      <td>0</td>\n      <td>A/5 21171</td>\n      <td>7.2500</td>\n      <td>NaN</td>\n      <td>S</td>\n    </tr>\n    <tr>\n      <th>1</th>\n      <td>1</td>\n      <td>Cumings, Mrs. John Bradley (Florence Briggs Th...</td>\n      <td>female</td>\n      <td>38.0</td>\n      <td>1</td>\n      <td>0</td>\n      <td>PC 17599</td>\n      <td>71.2833</td>\n      <td>C85</td>\n      <td>C</td>\n    </tr>\n    <tr>\n      <th>2</th>\n      <td>3</td>\n      <td>Heikkinen, Miss. Laina</td>\n      <td>female</td>\n      <td>26.0</td>\n      <td>0</td>\n      <td>0</td>\n      <td>STON/O2. 3101282</td>\n      <td>7.9250</td>\n      <td>NaN</td>\n      <td>S</td>\n    </tr>\n    <tr>\n      <th>3</th>\n      <td>1</td>\n      <td>Futrelle, Mrs. Jacques Heath (Lily May Peel)</td>\n      <td>female</td>\n      <td>35.0</td>\n      <td>1</td>\n      <td>0</td>\n      <td>113803</td>\n      <td>53.1000</td>\n      <td>C123</td>\n      <td>S</td>\n    </tr>\n    <tr>\n      <th>4</th>\n      <td>3</td>\n      <td>Allen, Mr. William Henry</td>\n      <td>male</td>\n      <td>35.0</td>\n      <td>0</td>\n      <td>0</td>\n      <td>373450</td>\n      <td>8.0500</td>\n      <td>NaN</td>\n      <td>S</td>\n    </tr>\n  </tbody>\n</table>\n</div>"
     },
     "metadata": {},
     "execution_count": 2
    }
   ],
   "source": [
    "# 做完特徵工程前的所有準備 (與前範例相同)\n",
    "import pandas as pd\n",
    "import numpy as np\n",
    "import copy, time\n",
    "from sklearn.preprocessing import MinMaxScaler\n",
    "from sklearn.model_selection import cross_val_score\n",
    "from sklearn.linear_model import LogisticRegression\n",
    "from sklearn.preprocessing import LabelEncoder\n",
    "\n",
    "data_path = 'data/'\n",
    "df_train = pd.read_csv(data_path + 'titanic_train.csv')\n",
    "df_test = pd.read_csv(data_path + 'titanic_test.csv')\n",
    "\n",
    "# 對資料做合併、取出\n",
    "train_Y = df_train['Survived']                                  # 取出目標值\n",
    "ids = df_test['PassengerId']                                    # 取出 ID\n",
    "df_train = df_train.drop(['PassengerId', 'Survived'] , axis=1)  # 去掉 目標值、ID\n",
    "df_test = df_test.drop(['PassengerId'] , axis=1)\n",
    "df = pd.concat([df_train,df_test])                              # 合併資料\n",
    "df.head()"
   ]
  },
  {
   "cell_type": "code",
   "execution_count": 3,
   "metadata": {},
   "outputs": [
    {
     "output_type": "stream",
     "name": "stdout",
     "text": [
      "5 Numeric Features : ['Name', 'Sex', 'Ticket', 'Cabin', 'Embarked']\n\n"
     ]
    },
    {
     "output_type": "execute_result",
     "data": {
      "text/plain": [
       "                                                Name     Sex  \\\n",
       "0                            Braund, Mr. Owen Harris    male   \n",
       "1  Cumings, Mrs. John Bradley (Florence Briggs Th...  female   \n",
       "2                             Heikkinen, Miss. Laina  female   \n",
       "3       Futrelle, Mrs. Jacques Heath (Lily May Peel)  female   \n",
       "4                           Allen, Mr. William Henry    male   \n",
       "\n",
       "             Ticket Cabin Embarked  \n",
       "0         A/5 21171  None        S  \n",
       "1          PC 17599   C85        C  \n",
       "2  STON/O2. 3101282  None        S  \n",
       "3            113803  C123        S  \n",
       "4            373450  None        S  "
      ],
      "text/html": "<div>\n<style scoped>\n    .dataframe tbody tr th:only-of-type {\n        vertical-align: middle;\n    }\n\n    .dataframe tbody tr th {\n        vertical-align: top;\n    }\n\n    .dataframe thead th {\n        text-align: right;\n    }\n</style>\n<table border=\"1\" class=\"dataframe\">\n  <thead>\n    <tr style=\"text-align: right;\">\n      <th></th>\n      <th>Name</th>\n      <th>Sex</th>\n      <th>Ticket</th>\n      <th>Cabin</th>\n      <th>Embarked</th>\n    </tr>\n  </thead>\n  <tbody>\n    <tr>\n      <th>0</th>\n      <td>Braund, Mr. Owen Harris</td>\n      <td>male</td>\n      <td>A/5 21171</td>\n      <td>None</td>\n      <td>S</td>\n    </tr>\n    <tr>\n      <th>1</th>\n      <td>Cumings, Mrs. John Bradley (Florence Briggs Th...</td>\n      <td>female</td>\n      <td>PC 17599</td>\n      <td>C85</td>\n      <td>C</td>\n    </tr>\n    <tr>\n      <th>2</th>\n      <td>Heikkinen, Miss. Laina</td>\n      <td>female</td>\n      <td>STON/O2. 3101282</td>\n      <td>None</td>\n      <td>S</td>\n    </tr>\n    <tr>\n      <th>3</th>\n      <td>Futrelle, Mrs. Jacques Heath (Lily May Peel)</td>\n      <td>female</td>\n      <td>113803</td>\n      <td>C123</td>\n      <td>S</td>\n    </tr>\n    <tr>\n      <th>4</th>\n      <td>Allen, Mr. William Henry</td>\n      <td>male</td>\n      <td>373450</td>\n      <td>None</td>\n      <td>S</td>\n    </tr>\n  </tbody>\n</table>\n</div>"
     },
     "metadata": {},
     "execution_count": 3
    }
   ],
   "source": [
    "#只取類別值 (object) 型欄位, 存於 object_features 中\n",
    "object_features = []\n",
    "for dtype, feature in zip(df.dtypes, df.columns):\n",
    "    if dtype == 'object':                           # 篩選出類別型欄位\n",
    "        object_features.append(feature)             # 將欄位名字加入 list\n",
    "print(f'{len(object_features)} Numeric Features : {object_features}\\n')\n",
    "\n",
    "# 只留類別型欄位\n",
    "df = df[object_features]                            # 留下類別型欄位\n",
    "df = df.fillna('None')                              # 填補空缺值NAN 為 'None'\n",
    "train_num = train_Y.shape[0]                        # 獲得train資料數\n",
    "df.head()"
   ]
  },
  {
   "cell_type": "markdown",
   "metadata": {
    "collapsed": true
   },
   "source": [
    "# 作業2\n",
    "* 觀察鐵達尼生存預測中，均值編碼與標籤編碼兩者比較，哪一個效果比較好? 可能的原因是什麼?"
   ]
  },
  {
   "cell_type": "code",
   "execution_count": 4,
   "metadata": {
    "collapsed": true
   },
   "outputs": [
    {
     "output_type": "stream",
     "name": "stdout",
     "text": [
      "time : 0.17353391647338867\nscore : 0.7800138095537004\ntrain_X_Shape : (891, 5)\n"
     ]
    }
   ],
   "source": [
    "# 對照組 : 標籤編碼 + 邏輯斯迴歸\n",
    "start = time.time()\n",
    "le = LabelEncoder()\n",
    "df_temp = copy.deepcopy(df)                                     # 深度複製\n",
    "\n",
    "# 進行標籤編碼\n",
    "for col in df.columns:\n",
    "    df_temp[col] = le.fit_transform( df[col] )                  # 做 LabelEncoding \n",
    "train_X = df_temp[:train_num]                                   # 取出 train 資料\n",
    "\n",
    "# 進行回歸分數計算\n",
    "estimator = LogisticRegression()\n",
    "score = cross_val_score(estimator, train_X, train_Y ).mean()    # 計算分數\n",
    "\n",
    "# 印出\n",
    "print(f'time : { time.time() - start }')\n",
    "print(f'score : { score }')\n",
    "print(f'train_X_Shape : {train_X.shape}')"
   ]
  },
  {
   "cell_type": "code",
   "execution_count": 5,
   "metadata": {
    "collapsed": true
   },
   "outputs": [
    {
     "output_type": "stream",
     "name": "stdout",
     "text": [
      "time : 0.09374761581420898\nscore : 1.0\ntrain_X_Shape : (891, 5)\n"
     ]
    }
   ],
   "source": [
    "# 均值編碼 + 邏輯斯迴歸\n",
    "start = time.time()\n",
    "data = pd.concat( [df[:train_num],train_Y], axis=1)                     # 合併 train 資料和目標值\n",
    "\n",
    "# 進行均值編碼\n",
    "for col in df.columns:\n",
    "    mean_df = data.groupby([col])['Survived'].mean().reset_index()      # 每個欄位 做分類並計算其各類別['Survived']平均值\n",
    "    mean_df.columns = [ col, f'{col}_mean']                             # 重設欄位名稱\n",
    "    data = pd.merge( data, mean_df, on=col, how='left')                 # 合併全部資料和[分類平均]  // on=col 利用此欄做合併 // how='left' 如左右df有不同，保留左邊資料 //\n",
    "    data.drop([col], axis=1, inplace=True)                              # 去掉原欄位\n",
    "data.drop(['Survived'], axis=1, inplace=True )                          # 去掉 ['Survived'] 欄位                 \n",
    "\n",
    "# 進行回歸分數計算\n",
    "estimator = LogisticRegression()\n",
    "score = cross_val_score(estimator, data, train_Y).mean()                # 計算分數\n",
    "\n",
    "# 印出\n",
    "print(f'time : {time.time()- start}')\n",
    "print(f'score : {score}')                                               # 計算分數 // 分數 = 1 有可能是 overfitting\n",
    "print(f'train_X_Shape : {train_X.shape}')"
   ]
  },
  {
   "source": [
    "## 因為有些欄位類別數量太多，會造成 overfitting(如上)\n",
    "## 所以可以剃除那些類別太多的"
   ],
   "cell_type": "markdown",
   "metadata": {}
  },
  {
   "cell_type": "code",
   "execution_count": 12,
   "metadata": {},
   "outputs": [
    {
     "output_type": "stream",
     "name": "stdout",
     "text": [
      "Name        1307\nSex            2\nTicket       929\nCabin        187\nEmbarked       4\ndtype: int64\n\n\n Sex           2\nCabin       187\nEmbarked      4\ndtype: int64\n"
     ]
    }
   ],
   "source": [
    "# 每欄類別數量\n",
    "print( df.nunique() )\n",
    "\n",
    "# 會發現 Name、Ticket 類別數特別多\n",
    "# 加以剃除\n",
    "df_temp = df.drop( ['Name','Ticket'], axis=1 )\n",
    "print('\\n\\n', df_temp.nunique() )"
   ]
  },
  {
   "source": [
    "### 利用更動後資料，重新計算"
   ],
   "cell_type": "markdown",
   "metadata": {}
  },
  {
   "cell_type": "code",
   "execution_count": 13,
   "metadata": {},
   "outputs": [
    {
     "output_type": "stream",
     "name": "stdout",
     "text": [
      "time : 0.05983781814575195\nscore : 0.835019772770071\ntrain_X_Shape : (891, 5)\n"
     ]
    }
   ],
   "source": [
    " # 均值編碼 + 邏輯斯迴歸\n",
    "start = time.time()\n",
    "data = pd.concat( [df_temp[:train_num],train_Y], axis=1)                     # 合併 train 資料和目標值\n",
    "\n",
    "# 進行均值編碼\n",
    "for col in df_temp.columns:\n",
    "    mean_df = data.groupby([col])['Survived'].mean().reset_index()      # 每個欄位 做分類並計算其各類別['Survived']平均值\n",
    "    mean_df.columns = [ col, f'{col}_mean']                             # 重設欄位名稱\n",
    "    data = pd.merge( data, mean_df, on=col, how='left')                 # 合併全部資料和[分類平均]  // on=col 利用此欄做合併 // how='left' 如左右df有不同，保留左邊資料 //\n",
    "    data.drop([col], axis=1, inplace=True)                              # 去掉原欄位\n",
    "data.drop(['Survived'], axis=1, inplace=True )                          # 去掉 ['Survived'] 欄位                 \n",
    "\n",
    "# 進行回歸分數計算\n",
    "estimator = LogisticRegression()\n",
    "score = cross_val_score(estimator, data, train_Y).mean()                # 計算分數\n",
    "\n",
    "# 印出\n",
    "print(f'time : {time.time()- start}')\n",
    "print(f'score : {score}')                                               # 計算分數 // 分數 = 1 有可能是 overfitting\n",
    "print(f'train_X_Shape : {train_X.shape}')"
   ]
  },
  {
   "source": [
    "### 可以發現分數比[ 標籤編碼 ]高，也不會 overfitting "
   ],
   "cell_type": "markdown",
   "metadata": {}
  }
 ],
 "metadata": {
  "kernelspec": {
   "name": "python3",
   "display_name": "Python 3.7.6 64-bit ('base': conda)"
  },
  "language_info": {
   "codemirror_mode": {
    "name": "ipython",
    "version": 3
   },
   "file_extension": ".py",
   "mimetype": "text/x-python",
   "name": "python",
   "nbconvert_exporter": "python",
   "pygments_lexer": "ipython3",
   "version": "3.7.6"
  },
  "interpreter": {
   "hash": "02963059bcfe9ec13866d8bbde8ec3e30f8393cff7234988bdd62b85a7bebcd1"
  }
 },
 "nbformat": 4,
 "nbformat_minor": 2
}