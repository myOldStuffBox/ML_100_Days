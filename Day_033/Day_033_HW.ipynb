{
 "cells": [
  {
   "cell_type": "markdown",
   "source": [
    "## 練習時間"
   ],
   "metadata": {}
  },
  {
   "cell_type": "markdown",
   "source": [
    "請觀看李宏毅教授以神奇寶貝進化 CP 值預測的範例，解說何謂機器學習與過擬合。並回答以下問題"
   ],
   "metadata": {}
  },
  {
   "cell_type": "markdown",
   "source": [
    "[youtube](https://www.youtube.com/watch?v=fegAeph9UaA)"
   ],
   "metadata": {}
  },
  {
   "cell_type": "markdown",
   "source": [
    "### 1. 模型的泛化能力 (generalization) 是指什麼？ \r\n",
    "### 2. 分類問題與回歸問題分別可用的目標函數有哪些？"
   ],
   "metadata": {}
  },
  {
   "cell_type": "markdown",
   "source": [
    "# ANS:\r\n",
    "## 1.generalization 指的是訓練出的模型對除了訓練集以外，對其他data的適應能力，如果泛化能力不好，就很容易形成 overfitting 的情況，\r\n",
    "##   可利用Loss Function 計算誤差(Error)來評斷泛化能力。\r\n",
    "\r\n",
    "## 2.目標函數(損失函數(Loss function))，在回歸問題時常用 [均方誤差 MSE]( Mean Square Error) or [平均絕對誤差 MAE] (也就是把MSE中的平方換成絕對值)，\r\n",
    "##   分類問題常使用[交叉商(Cross Entropy)]。\r\n"
   ],
   "metadata": {}
  }
 ],
 "metadata": {
  "kernelspec": {
   "display_name": "Python 3",
   "language": "python",
   "name": "python3"
  },
  "language_info": {
   "codemirror_mode": {
    "name": "ipython",
    "version": 3
   },
   "file_extension": ".py",
   "mimetype": "text/x-python",
   "name": "python",
   "nbconvert_exporter": "python",
   "pygments_lexer": "ipython3",
   "version": "3.6.2"
  }
 },
 "nbformat": 4,
 "nbformat_minor": 2
}