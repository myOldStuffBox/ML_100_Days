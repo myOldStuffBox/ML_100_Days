{
 "cells": [
  {
   "cell_type": "markdown",
   "source": [
    "## 練習時間\n",
    "相信大家對回歸問題及分類問題都有初步的了解。今天的作業希望大家搜尋有關 multi-label 的案例問題。下圖是電影 \"奇異博士\" 的分類。可以看到同時有 \"Action\", \"Adventure\", \"Fantasy\" 的類別存在，代表這是個多標籤的問題。 "
   ],
   "metadata": {}
  },
  {
   "cell_type": "markdown",
   "source": [
    "![image](https://cdn-images-1.medium.com/max/1000/1*r0gYXMSQf5VhdMyl2bRDyg.png)"
   ],
   "metadata": {}
  },
  {
   "cell_type": "markdown",
   "source": [
    "## 請搜尋目標為多標籤問題 (Multi-label) 的機器學習案例，了解其資料來源、目標以及評估指標為何\r\n",
    "## Hint: 服飾"
   ],
   "metadata": {}
  },
  {
   "cell_type": "markdown",
   "source": [
    "# Ans : \r\n",
    "# 我選用垃圾分類資料集 [https://www.kaggle.com/asdasdasasdas/garbage-classification]\r\n",
    "## 資料來源 : 在 kaggle上 沒特別說明，但應該來自網路圖片的收集或自家拍攝\r\n",
    "\r\n",
    "## 目標 :     為對垃圾的照片進行圖片深度學習分類(CNN) \r\n",
    "\r\n",
    "## 類別 :     cardboard(紙板) , glass(玻璃) , metal(金屬) , paper(紙類), plastic(塑膠), trash(一般垃圾) \r\n",
    "\r\n",
    "## 評估指標 : 利用 accuracy ( 圖片對應 Label 的準確度 ) 來進行結果好壞的評判"
   ],
   "metadata": {}
  }
 ],
 "metadata": {
  "kernelspec": {
   "display_name": "Python 3",
   "language": "python",
   "name": "python3"
  },
  "language_info": {
   "codemirror_mode": {
    "name": "ipython",
    "version": 3
   },
   "file_extension": ".py",
   "mimetype": "text/x-python",
   "name": "python",
   "nbconvert_exporter": "python",
   "pygments_lexer": "ipython3",
   "version": "3.6.3"
  }
 },
 "nbformat": 4,
 "nbformat_minor": 2
}