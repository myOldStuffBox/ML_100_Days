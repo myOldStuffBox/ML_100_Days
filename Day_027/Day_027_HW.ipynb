{
 "cells": [
  {
   "cell_type": "markdown",
   "metadata": {
    "collapsed": true
   },
   "source": [
    "# 範例 : 計程車費率預測\n",
    "https://www.kaggle.com/c/new-york-city-taxi-fare-prediction"
   ]
  },
  {
   "cell_type": "markdown",
   "metadata": {},
   "source": [
    "# [作業目標]\n",
    "- 試著模仿範例寫法, 使用程車費率預測競賽練習時間欄位處理"
   ]
  },
  {
   "cell_type": "markdown",
   "metadata": {},
   "source": [
    "# [作業重點]\n",
    "- 新增星期幾(day of week)與第幾周(week of year)這兩項特徵, 觀察有什麼影響 (In[4], Out[4], In[5], Out[5])\n",
    "- 新增加上年週期與周周期特徵 , 觀察有什麼影響 (In[8], Out[8], In[9], Out[9]) "
   ]
  },
  {
   "cell_type": "code",
   "execution_count": 2,
   "metadata": {},
   "outputs": [
    {
     "output_type": "execute_result",
     "data": {
      "text/plain": [
       "           pickup_datetime  pickup_longitude  pickup_latitude  \\\n",
       "0  2011-10-21 23:54:10 UTC        -73.990580        40.761071   \n",
       "1  2015-02-03 10:42:03 UTC        -73.988403        40.723431   \n",
       "2  2014-03-16 18:58:58 UTC        -74.015785        40.715110   \n",
       "3  2009-06-13 16:10:54 UTC        -73.977322        40.787275   \n",
       "4  2014-06-12 03:25:56 UTC        -73.989683        40.729717   \n",
       "\n",
       "   dropoff_longitude  dropoff_latitude  passenger_count  \n",
       "0         -73.981128         40.758634                2  \n",
       "1         -73.989647         40.741695                1  \n",
       "2         -74.012029         40.707888                2  \n",
       "3         -73.958030         40.778838                3  \n",
       "4         -73.982490         40.761887                3  "
      ],
      "text/html": "<div>\n<style scoped>\n    .dataframe tbody tr th:only-of-type {\n        vertical-align: middle;\n    }\n\n    .dataframe tbody tr th {\n        vertical-align: top;\n    }\n\n    .dataframe thead th {\n        text-align: right;\n    }\n</style>\n<table border=\"1\" class=\"dataframe\">\n  <thead>\n    <tr style=\"text-align: right;\">\n      <th></th>\n      <th>pickup_datetime</th>\n      <th>pickup_longitude</th>\n      <th>pickup_latitude</th>\n      <th>dropoff_longitude</th>\n      <th>dropoff_latitude</th>\n      <th>passenger_count</th>\n    </tr>\n  </thead>\n  <tbody>\n    <tr>\n      <th>0</th>\n      <td>2011-10-21 23:54:10 UTC</td>\n      <td>-73.990580</td>\n      <td>40.761071</td>\n      <td>-73.981128</td>\n      <td>40.758634</td>\n      <td>2</td>\n    </tr>\n    <tr>\n      <th>1</th>\n      <td>2015-02-03 10:42:03 UTC</td>\n      <td>-73.988403</td>\n      <td>40.723431</td>\n      <td>-73.989647</td>\n      <td>40.741695</td>\n      <td>1</td>\n    </tr>\n    <tr>\n      <th>2</th>\n      <td>2014-03-16 18:58:58 UTC</td>\n      <td>-74.015785</td>\n      <td>40.715110</td>\n      <td>-74.012029</td>\n      <td>40.707888</td>\n      <td>2</td>\n    </tr>\n    <tr>\n      <th>3</th>\n      <td>2009-06-13 16:10:54 UTC</td>\n      <td>-73.977322</td>\n      <td>40.787275</td>\n      <td>-73.958030</td>\n      <td>40.778838</td>\n      <td>3</td>\n    </tr>\n    <tr>\n      <th>4</th>\n      <td>2014-06-12 03:25:56 UTC</td>\n      <td>-73.989683</td>\n      <td>40.729717</td>\n      <td>-73.982490</td>\n      <td>40.761887</td>\n      <td>3</td>\n    </tr>\n  </tbody>\n</table>\n</div>"
     },
     "metadata": {},
     "execution_count": 2
    }
   ],
   "source": [
    "# 做完特徵工程前的所有準備\n",
    "import pandas as pd\n",
    "import numpy as np\n",
    "import datetime\n",
    "from sklearn.preprocessing import MinMaxScaler\n",
    "from sklearn.model_selection import cross_val_score\n",
    "from sklearn.linear_model import LinearRegression\n",
    "from sklearn.ensemble import GradientBoostingRegressor\n",
    "\n",
    "data_path = 'data/'\n",
    "df = pd.read_csv(data_path + 'taxi_data1.csv')\n",
    "\n",
    "# 資料做取出\n",
    "train_Y = df['fare_amount']                    # 取出目標值\n",
    "df = df.drop(['fare_amount'] , axis=1)\n",
    "df.head()"
   ]
  },
  {
   "cell_type": "code",
   "execution_count": 3,
   "metadata": {},
   "outputs": [
    {
     "output_type": "execute_result",
     "data": {
      "text/plain": [
       "      pickup_datetime  pickup_longitude  pickup_latitude  dropoff_longitude  \\\n",
       "0 2011-10-21 23:54:10        -73.990580        40.761071         -73.981128   \n",
       "1 2015-02-03 10:42:03        -73.988403        40.723431         -73.989647   \n",
       "2 2014-03-16 18:58:58        -74.015785        40.715110         -74.012029   \n",
       "3 2009-06-13 16:10:54        -73.977322        40.787275         -73.958030   \n",
       "4 2014-06-12 03:25:56        -73.989683        40.729717         -73.982490   \n",
       "\n",
       "   dropoff_latitude  passenger_count  pickup_year  pickup_month  pickup_day  \\\n",
       "0         40.758634                2         2011            10          21   \n",
       "1         40.741695                1         2015             2           3   \n",
       "2         40.707888                2         2014             3          16   \n",
       "3         40.778838                3         2009             6          13   \n",
       "4         40.761887                3         2014             6          12   \n",
       "\n",
       "   pickup_hour  pickup_minute  pickup_second  \n",
       "0           23             54             10  \n",
       "1           10             42              3  \n",
       "2           18             58             58  \n",
       "3           16             10             54  \n",
       "4            3             25             56  "
      ],
      "text/html": "<div>\n<style scoped>\n    .dataframe tbody tr th:only-of-type {\n        vertical-align: middle;\n    }\n\n    .dataframe tbody tr th {\n        vertical-align: top;\n    }\n\n    .dataframe thead th {\n        text-align: right;\n    }\n</style>\n<table border=\"1\" class=\"dataframe\">\n  <thead>\n    <tr style=\"text-align: right;\">\n      <th></th>\n      <th>pickup_datetime</th>\n      <th>pickup_longitude</th>\n      <th>pickup_latitude</th>\n      <th>dropoff_longitude</th>\n      <th>dropoff_latitude</th>\n      <th>passenger_count</th>\n      <th>pickup_year</th>\n      <th>pickup_month</th>\n      <th>pickup_day</th>\n      <th>pickup_hour</th>\n      <th>pickup_minute</th>\n      <th>pickup_second</th>\n    </tr>\n  </thead>\n  <tbody>\n    <tr>\n      <th>0</th>\n      <td>2011-10-21 23:54:10</td>\n      <td>-73.990580</td>\n      <td>40.761071</td>\n      <td>-73.981128</td>\n      <td>40.758634</td>\n      <td>2</td>\n      <td>2011</td>\n      <td>10</td>\n      <td>21</td>\n      <td>23</td>\n      <td>54</td>\n      <td>10</td>\n    </tr>\n    <tr>\n      <th>1</th>\n      <td>2015-02-03 10:42:03</td>\n      <td>-73.988403</td>\n      <td>40.723431</td>\n      <td>-73.989647</td>\n      <td>40.741695</td>\n      <td>1</td>\n      <td>2015</td>\n      <td>2</td>\n      <td>3</td>\n      <td>10</td>\n      <td>42</td>\n      <td>3</td>\n    </tr>\n    <tr>\n      <th>2</th>\n      <td>2014-03-16 18:58:58</td>\n      <td>-74.015785</td>\n      <td>40.715110</td>\n      <td>-74.012029</td>\n      <td>40.707888</td>\n      <td>2</td>\n      <td>2014</td>\n      <td>3</td>\n      <td>16</td>\n      <td>18</td>\n      <td>58</td>\n      <td>58</td>\n    </tr>\n    <tr>\n      <th>3</th>\n      <td>2009-06-13 16:10:54</td>\n      <td>-73.977322</td>\n      <td>40.787275</td>\n      <td>-73.958030</td>\n      <td>40.778838</td>\n      <td>3</td>\n      <td>2009</td>\n      <td>6</td>\n      <td>13</td>\n      <td>16</td>\n      <td>10</td>\n      <td>54</td>\n    </tr>\n    <tr>\n      <th>4</th>\n      <td>2014-06-12 03:25:56</td>\n      <td>-73.989683</td>\n      <td>40.729717</td>\n      <td>-73.982490</td>\n      <td>40.761887</td>\n      <td>3</td>\n      <td>2014</td>\n      <td>6</td>\n      <td>12</td>\n      <td>3</td>\n      <td>25</td>\n      <td>56</td>\n    </tr>\n  </tbody>\n</table>\n</div>"
     },
     "metadata": {},
     "execution_count": 3
    }
   ],
   "source": [
    "# 時間特徵分解方式:使用datetime\n",
    "\n",
    "# 把[string 物件] 轉為 [時間物件]\n",
    "df['pickup_datetime'] = df['pickup_datetime'].apply(lambda x: datetime.datetime.strptime(x, '%Y-%m-%d %H:%M:%S UTC'))\n",
    "\n",
    "# 把要得到的[時間物件]轉為[string 物件]。再轉成[數值](int64)\n",
    "df['pickup_year'] = df['pickup_datetime'].apply(lambda x: datetime.datetime.strftime(x, '%Y')).astype('int64')      # 年\n",
    "df['pickup_month'] = df['pickup_datetime'].apply(lambda x: datetime.datetime.strftime(x, '%m')).astype('int64')     # 月\n",
    "df['pickup_day'] = df['pickup_datetime'].apply(lambda x: datetime.datetime.strftime(x, '%d')).astype('int64')       # 日\n",
    "df['pickup_hour'] = df['pickup_datetime'].apply(lambda x: datetime.datetime.strftime(x, '%H')).astype('int64')      # 時\n",
    "df['pickup_minute'] = df['pickup_datetime'].apply(lambda x: datetime.datetime.strftime(x, '%M')).astype('int64')    # 分\n",
    "df['pickup_second'] = df['pickup_datetime'].apply(lambda x: datetime.datetime.strftime(x, '%S')).astype('int64')    # 秒\n",
    "\n",
    "#################\n",
    "'''\n",
    "將 [string] 轉成 [時間物件]\n",
    "datatime.datetime.strptime( x, \" 要輸入&輸出的資料 \" )\n",
    "x : string 形式物件\n",
    "\n",
    "將[時間物件] 轉成 [string]\n",
    "datatime.datetime.strftime( x, \" 要輸入&輸出的資料 \" )\n",
    "x : 時間形式物件\n",
    "\n",
    "%Y : 年\n",
    "%m : 月\n",
    "%d : 日\n",
    "%H : 時\n",
    "%M : 分\n",
    "%S : 秒\n",
    "%w : 星期幾\n",
    "%U : 一年中的第幾周\n",
    "\n",
    "df.astype( 'type' )\n",
    "將 df 的資料轉為所設定的 type\n",
    "'''\n",
    "#################\n",
    "\n",
    "df.head()"
   ]
  },
  {
   "cell_type": "code",
   "execution_count": 4,
   "metadata": {},
   "outputs": [
    {
     "output_type": "stream",
     "name": "stdout",
     "text": [
      "Linear Reg Score : 0.02687687147564244\n",
      "Gradient Boosting Reg Score : 0.7102229829685841\n"
     ]
    }
   ],
   "source": [
    "# 將結果使用線性迴歸 / 梯度提升樹分別看結果\n",
    "df_temp = df.drop(['pickup_datetime'] , axis=1)\n",
    "\n",
    "scaler = MinMaxScaler()                             # 設定最大最小化\n",
    "train_X = scaler.fit_transform(df_temp)             # 進行最大最小化轉換\n",
    "\n",
    "Linear = LinearRegression()                         # 設定使用線性回歸\n",
    "print(f'Linear Reg Score : {cross_val_score(Linear, train_X, train_Y, cv=5).mean()}')           # 計算分數\n",
    "GDBT = GradientBoostingRegressor()                  # 設定使用梯度提升樹\n",
    "print(f'Gradient Boosting Reg Score : {cross_val_score(GDBT, train_X, train_Y, cv=5).mean()}')  # 計算分數"
   ]
  },
  {
   "cell_type": "markdown",
   "metadata": {
    "collapsed": true
   },
   "source": [
    "# 作業1\n",
    "* 對照範例，試著加入星期幾 (day of week) 與第幾周 (week of year) 這兩項特徵，  \n",
    "看看結果會比原本只有時間特徵分解的結果更好或更差?"
   ]
  },
  {
   "source": [
    "## 依照結果，比原本好一點點，但沒差多少"
   ],
   "cell_type": "markdown",
   "metadata": {}
  },
  {
   "cell_type": "code",
   "execution_count": 7,
   "metadata": {
    "collapsed": true
   },
   "outputs": [
    {
     "output_type": "execute_result",
     "data": {
      "text/plain": [
       "      pickup_datetime  pickup_longitude  pickup_latitude  dropoff_longitude  \\\n",
       "0 2011-10-21 23:54:10        -73.990580        40.761071         -73.981128   \n",
       "1 2015-02-03 10:42:03        -73.988403        40.723431         -73.989647   \n",
       "2 2014-03-16 18:58:58        -74.015785        40.715110         -74.012029   \n",
       "3 2009-06-13 16:10:54        -73.977322        40.787275         -73.958030   \n",
       "4 2014-06-12 03:25:56        -73.989683        40.729717         -73.982490   \n",
       "\n",
       "   dropoff_latitude  passenger_count  pickup_year  pickup_month  pickup_day  \\\n",
       "0         40.758634                2         2011            10          21   \n",
       "1         40.741695                1         2015             2           3   \n",
       "2         40.707888                2         2014             3          16   \n",
       "3         40.778838                3         2009             6          13   \n",
       "4         40.761887                3         2014             6          12   \n",
       "\n",
       "   pickup_hour  pickup_minute  pickup_second  day_of_week  week_of_year  \n",
       "0           23             54             10            5            42  \n",
       "1           10             42              3            2             5  \n",
       "2           18             58             58            0            11  \n",
       "3           16             10             54            6            23  \n",
       "4            3             25             56            4            23  "
      ],
      "text/html": "<div>\n<style scoped>\n    .dataframe tbody tr th:only-of-type {\n        vertical-align: middle;\n    }\n\n    .dataframe tbody tr th {\n        vertical-align: top;\n    }\n\n    .dataframe thead th {\n        text-align: right;\n    }\n</style>\n<table border=\"1\" class=\"dataframe\">\n  <thead>\n    <tr style=\"text-align: right;\">\n      <th></th>\n      <th>pickup_datetime</th>\n      <th>pickup_longitude</th>\n      <th>pickup_latitude</th>\n      <th>dropoff_longitude</th>\n      <th>dropoff_latitude</th>\n      <th>passenger_count</th>\n      <th>pickup_year</th>\n      <th>pickup_month</th>\n      <th>pickup_day</th>\n      <th>pickup_hour</th>\n      <th>pickup_minute</th>\n      <th>pickup_second</th>\n      <th>day_of_week</th>\n      <th>week_of_year</th>\n    </tr>\n  </thead>\n  <tbody>\n    <tr>\n      <th>0</th>\n      <td>2011-10-21 23:54:10</td>\n      <td>-73.990580</td>\n      <td>40.761071</td>\n      <td>-73.981128</td>\n      <td>40.758634</td>\n      <td>2</td>\n      <td>2011</td>\n      <td>10</td>\n      <td>21</td>\n      <td>23</td>\n      <td>54</td>\n      <td>10</td>\n      <td>5</td>\n      <td>42</td>\n    </tr>\n    <tr>\n      <th>1</th>\n      <td>2015-02-03 10:42:03</td>\n      <td>-73.988403</td>\n      <td>40.723431</td>\n      <td>-73.989647</td>\n      <td>40.741695</td>\n      <td>1</td>\n      <td>2015</td>\n      <td>2</td>\n      <td>3</td>\n      <td>10</td>\n      <td>42</td>\n      <td>3</td>\n      <td>2</td>\n      <td>5</td>\n    </tr>\n    <tr>\n      <th>2</th>\n      <td>2014-03-16 18:58:58</td>\n      <td>-74.015785</td>\n      <td>40.715110</td>\n      <td>-74.012029</td>\n      <td>40.707888</td>\n      <td>2</td>\n      <td>2014</td>\n      <td>3</td>\n      <td>16</td>\n      <td>18</td>\n      <td>58</td>\n      <td>58</td>\n      <td>0</td>\n      <td>11</td>\n    </tr>\n    <tr>\n      <th>3</th>\n      <td>2009-06-13 16:10:54</td>\n      <td>-73.977322</td>\n      <td>40.787275</td>\n      <td>-73.958030</td>\n      <td>40.778838</td>\n      <td>3</td>\n      <td>2009</td>\n      <td>6</td>\n      <td>13</td>\n      <td>16</td>\n      <td>10</td>\n      <td>54</td>\n      <td>6</td>\n      <td>23</td>\n    </tr>\n    <tr>\n      <th>4</th>\n      <td>2014-06-12 03:25:56</td>\n      <td>-73.989683</td>\n      <td>40.729717</td>\n      <td>-73.982490</td>\n      <td>40.761887</td>\n      <td>3</td>\n      <td>2014</td>\n      <td>6</td>\n      <td>12</td>\n      <td>3</td>\n      <td>25</td>\n      <td>56</td>\n      <td>4</td>\n      <td>23</td>\n    </tr>\n  </tbody>\n</table>\n</div>"
     },
     "metadata": {},
     "execution_count": 7
    }
   ],
   "source": [
    "# 加入星期幾與第幾周兩個特徵\n",
    "\"\"\"\n",
    "Your Code Here\n",
    "\"\"\"\n",
    "df['day_of_week'] = df['pickup_datetime'].map( lambda x: datetime.datetime.strftime(x,'%w') ).astype('int64')       # 星期幾( 0=Sunday、6=Saturday...)\n",
    "df['week_of_year'] = df['pickup_datetime'].map( lambda x: datetime.datetime.strftime( x, \"%U\") ).astype('int64')    # 轉成第幾周(一年中的)\n",
    "df.head()"
   ]
  },
  {
   "cell_type": "code",
   "execution_count": 8,
   "metadata": {
    "collapsed": true
   },
   "outputs": [
    {
     "output_type": "stream",
     "name": "stdout",
     "text": [
      "Linear Reg Score : 0.02872263991179307\n",
      "Gradient Boosting Reg Score : 0.7103396626059206\n"
     ]
    }
   ],
   "source": [
    "# 將結果使用線性迴歸 / 梯度提升樹分別看結果\n",
    "df_temp = df.drop(['pickup_datetime'] , axis=1)                                                 # 刪去總日期時間欄位\n",
    "\n",
    "train_X = scaler.fit_transform(df_temp)                                                         # 最大最小化\n",
    "print(f'Linear Reg Score : {cross_val_score(Linear, train_X, train_Y, cv=5).mean()}')           # 線性回歸分數\n",
    "print(f'Gradient Boosting Reg Score : {cross_val_score(GDBT, train_X, train_Y, cv=5).mean()}')  # 梯度提升樹分數"
   ]
  },
  {
   "cell_type": "code",
   "execution_count": 9,
   "metadata": {
    "collapsed": true
   },
   "outputs": [
    {
     "output_type": "execute_result",
     "data": {
      "text/plain": [
       "      pickup_datetime  pickup_longitude  pickup_latitude  dropoff_longitude  \\\n",
       "0 2011-10-21 23:54:10        -73.990580        40.761071         -73.981128   \n",
       "1 2015-02-03 10:42:03        -73.988403        40.723431         -73.989647   \n",
       "2 2014-03-16 18:58:58        -74.015785        40.715110         -74.012029   \n",
       "3 2009-06-13 16:10:54        -73.977322        40.787275         -73.958030   \n",
       "4 2014-06-12 03:25:56        -73.989683        40.729717         -73.982490   \n",
       "\n",
       "   dropoff_latitude  passenger_count  pickup_year  pickup_month  pickup_day  \\\n",
       "0         40.758634                2         2011            10          21   \n",
       "1         40.741695                1         2015             2           3   \n",
       "2         40.707888                2         2014             3          16   \n",
       "3         40.778838                3         2009             6          13   \n",
       "4         40.761887                3         2014             6          12   \n",
       "\n",
       "   pickup_hour  pickup_minute  pickup_second  day_of_week  week_of_year  \\\n",
       "0           23             54             10            5            42   \n",
       "1           10             42              3            2             5   \n",
       "2           18             58             58            0            11   \n",
       "3           16             10             54            6            23   \n",
       "4            3             25             56            4            23   \n",
       "\n",
       "   day_cycle  \n",
       "0  -0.025450  \n",
       "1   0.333601  \n",
       "2  -0.967083  \n",
       "3  -0.888817  \n",
       "4   0.782427  "
      ],
      "text/html": "<div>\n<style scoped>\n    .dataframe tbody tr th:only-of-type {\n        vertical-align: middle;\n    }\n\n    .dataframe tbody tr th {\n        vertical-align: top;\n    }\n\n    .dataframe thead th {\n        text-align: right;\n    }\n</style>\n<table border=\"1\" class=\"dataframe\">\n  <thead>\n    <tr style=\"text-align: right;\">\n      <th></th>\n      <th>pickup_datetime</th>\n      <th>pickup_longitude</th>\n      <th>pickup_latitude</th>\n      <th>dropoff_longitude</th>\n      <th>dropoff_latitude</th>\n      <th>passenger_count</th>\n      <th>pickup_year</th>\n      <th>pickup_month</th>\n      <th>pickup_day</th>\n      <th>pickup_hour</th>\n      <th>pickup_minute</th>\n      <th>pickup_second</th>\n      <th>day_of_week</th>\n      <th>week_of_year</th>\n      <th>day_cycle</th>\n    </tr>\n  </thead>\n  <tbody>\n    <tr>\n      <th>0</th>\n      <td>2011-10-21 23:54:10</td>\n      <td>-73.990580</td>\n      <td>40.761071</td>\n      <td>-73.981128</td>\n      <td>40.758634</td>\n      <td>2</td>\n      <td>2011</td>\n      <td>10</td>\n      <td>21</td>\n      <td>23</td>\n      <td>54</td>\n      <td>10</td>\n      <td>5</td>\n      <td>42</td>\n      <td>-0.025450</td>\n    </tr>\n    <tr>\n      <th>1</th>\n      <td>2015-02-03 10:42:03</td>\n      <td>-73.988403</td>\n      <td>40.723431</td>\n      <td>-73.989647</td>\n      <td>40.741695</td>\n      <td>1</td>\n      <td>2015</td>\n      <td>2</td>\n      <td>3</td>\n      <td>10</td>\n      <td>42</td>\n      <td>3</td>\n      <td>2</td>\n      <td>5</td>\n      <td>0.333601</td>\n    </tr>\n    <tr>\n      <th>2</th>\n      <td>2014-03-16 18:58:58</td>\n      <td>-74.015785</td>\n      <td>40.715110</td>\n      <td>-74.012029</td>\n      <td>40.707888</td>\n      <td>2</td>\n      <td>2014</td>\n      <td>3</td>\n      <td>16</td>\n      <td>18</td>\n      <td>58</td>\n      <td>58</td>\n      <td>0</td>\n      <td>11</td>\n      <td>-0.967083</td>\n    </tr>\n    <tr>\n      <th>3</th>\n      <td>2009-06-13 16:10:54</td>\n      <td>-73.977322</td>\n      <td>40.787275</td>\n      <td>-73.958030</td>\n      <td>40.778838</td>\n      <td>3</td>\n      <td>2009</td>\n      <td>6</td>\n      <td>13</td>\n      <td>16</td>\n      <td>10</td>\n      <td>54</td>\n      <td>6</td>\n      <td>23</td>\n      <td>-0.888817</td>\n    </tr>\n    <tr>\n      <th>4</th>\n      <td>2014-06-12 03:25:56</td>\n      <td>-73.989683</td>\n      <td>40.729717</td>\n      <td>-73.982490</td>\n      <td>40.761887</td>\n      <td>3</td>\n      <td>2014</td>\n      <td>6</td>\n      <td>12</td>\n      <td>3</td>\n      <td>25</td>\n      <td>56</td>\n      <td>4</td>\n      <td>23</td>\n      <td>0.782427</td>\n    </tr>\n  </tbody>\n</table>\n</div>"
     },
     "metadata": {},
     "execution_count": 9
    }
   ],
   "source": [
    "# 加上\"日週期\"特徵 (參考講義\"週期循環特徵\")\n",
    "import math\n",
    "\n",
    "# 日週期計算\n",
    "df['day_cycle'] = df['pickup_hour']/12 + df['pickup_minute']/720 + df['pickup_second']/43200        \n",
    "df['day_cycle'] = df['day_cycle'].map(lambda x:math.sin(x*math.pi))                             \n",
    "\n",
    "###############\n",
    "'''\n",
    "日週期 = sin[ (小時/12 + 分/720 + 秒/43200) * pi ]\n",
    "ps. 小時 : 24 小時制\n",
    "'''\n",
    "##############\n",
    "\n",
    "df.head()"
   ]
  },
  {
   "cell_type": "code",
   "execution_count": 10,
   "metadata": {
    "collapsed": true
   },
   "outputs": [
    {
     "output_type": "stream",
     "name": "stdout",
     "text": [
      "Linear Reg Score : 0.02823409406181778\n",
      "Gradient Boosting Reg Score : 0.7114659152761554\n"
     ]
    }
   ],
   "source": [
    "# 將結果使用線性迴歸 / 梯度提升樹分別看結果\n",
    "df_temp = df.drop(['pickup_datetime'] , axis=1)\n",
    "train_X = scaler.fit_transform(df_temp)\n",
    "print(f'Linear Reg Score : {cross_val_score(Linear, train_X, train_Y, cv=5).mean()}')\n",
    "print(f'Gradient Boosting Reg Score : {cross_val_score(GDBT, train_X, train_Y, cv=5).mean()}')"
   ]
  },
  {
   "cell_type": "markdown",
   "metadata": {
    "collapsed": true
   },
   "source": [
    "# 作業2\n",
    "* 對照範例的日週期效果，試著參考投影片完成年週期與周週期的特徵 (也可以用你自己想到的方式)，  \n",
    "看看結果會比範例中的結果更好或更差?"
   ]
  },
  {
   "source": [
    "## 依照結果，比原本和只用[日週期]好一點點，但沒差多少"
   ],
   "cell_type": "markdown",
   "metadata": {}
  },
  {
   "cell_type": "code",
   "execution_count": 15,
   "metadata": {
    "collapsed": true
   },
   "outputs": [
    {
     "output_type": "execute_result",
     "data": {
      "text/plain": [
       "'\\n年週期 = cos[( 月/6 + 日/180) * pi]\\n日 : day of year\\n\\n'"
      ]
     },
     "metadata": {},
     "execution_count": 15
    }
   ],
   "source": [
    "# 加上\"年週期\"\n",
    "\n",
    "df['Year_cycle'] = df['pickup_month']/6 + df['pickup_day'] /180\n",
    "# df['Year_cycle'] = df['pickup_month']/6 + ( df['pickup_datetime'].map(lambda x: datetime.datetime.strftime(x,'%j') ).astype('int64') ) /180\n",
    "df['Year_cycle'] = df['Year_cycle'].map( lambda x: math.cos( x * math.pi ))\n",
    "\n",
    "####################\n",
    "'''\n",
    "年週期 = cos[( 月/6 + 日/180) * pi]\n",
    "# 日 : day of year # 但答案不用此-呵呵\n",
    "'''\n",
    "####################"
   ]
  },
  {
   "cell_type": "code",
   "execution_count": 17,
   "metadata": {},
   "outputs": [
    {
     "output_type": "execute_result",
     "data": {
      "text/plain": [
       "      pickup_datetime  pickup_longitude  pickup_latitude  dropoff_longitude  \\\n",
       "0 2011-10-21 23:54:10        -73.990580        40.761071         -73.981128   \n",
       "1 2015-02-03 10:42:03        -73.988403        40.723431         -73.989647   \n",
       "2 2014-03-16 18:58:58        -74.015785        40.715110         -74.012029   \n",
       "3 2009-06-13 16:10:54        -73.977322        40.787275         -73.958030   \n",
       "4 2014-06-12 03:25:56        -73.989683        40.729717         -73.982490   \n",
       "\n",
       "   dropoff_latitude  passenger_count  pickup_year  pickup_month  pickup_day  \\\n",
       "0         40.758634                2         2011            10          21   \n",
       "1         40.741695                1         2015             2           3   \n",
       "2         40.707888                2         2014             3          16   \n",
       "3         40.778838                3         2009             6          13   \n",
       "4         40.761887                3         2014             6          12   \n",
       "\n",
       "   pickup_hour  pickup_minute  pickup_second  day_of_week  week_of_year  \\\n",
       "0           23             54             10            5            42   \n",
       "1           10             42              3            2             5   \n",
       "2           18             58             58            0            11   \n",
       "3           16             10             54            6            23   \n",
       "4            3             25             56            4            23   \n",
       "\n",
       "   day_cycle  Year_cycle  Month_cycle  \n",
       "0  -0.025450   -0.587785    -0.804598  \n",
       "1   0.333601   -0.069756     0.826239  \n",
       "2  -0.967083   -0.965926     0.623490  \n",
       "3  -0.888817    0.961262    -0.294755  \n",
       "4   0.782427    0.956305    -0.532032  "
      ],
      "text/html": "<div>\n<style scoped>\n    .dataframe tbody tr th:only-of-type {\n        vertical-align: middle;\n    }\n\n    .dataframe tbody tr th {\n        vertical-align: top;\n    }\n\n    .dataframe thead th {\n        text-align: right;\n    }\n</style>\n<table border=\"1\" class=\"dataframe\">\n  <thead>\n    <tr style=\"text-align: right;\">\n      <th></th>\n      <th>pickup_datetime</th>\n      <th>pickup_longitude</th>\n      <th>pickup_latitude</th>\n      <th>dropoff_longitude</th>\n      <th>dropoff_latitude</th>\n      <th>passenger_count</th>\n      <th>pickup_year</th>\n      <th>pickup_month</th>\n      <th>pickup_day</th>\n      <th>pickup_hour</th>\n      <th>pickup_minute</th>\n      <th>pickup_second</th>\n      <th>day_of_week</th>\n      <th>week_of_year</th>\n      <th>day_cycle</th>\n      <th>Year_cycle</th>\n      <th>Month_cycle</th>\n    </tr>\n  </thead>\n  <tbody>\n    <tr>\n      <th>0</th>\n      <td>2011-10-21 23:54:10</td>\n      <td>-73.990580</td>\n      <td>40.761071</td>\n      <td>-73.981128</td>\n      <td>40.758634</td>\n      <td>2</td>\n      <td>2011</td>\n      <td>10</td>\n      <td>21</td>\n      <td>23</td>\n      <td>54</td>\n      <td>10</td>\n      <td>5</td>\n      <td>42</td>\n      <td>-0.025450</td>\n      <td>-0.587785</td>\n      <td>-0.804598</td>\n    </tr>\n    <tr>\n      <th>1</th>\n      <td>2015-02-03 10:42:03</td>\n      <td>-73.988403</td>\n      <td>40.723431</td>\n      <td>-73.989647</td>\n      <td>40.741695</td>\n      <td>1</td>\n      <td>2015</td>\n      <td>2</td>\n      <td>3</td>\n      <td>10</td>\n      <td>42</td>\n      <td>3</td>\n      <td>2</td>\n      <td>5</td>\n      <td>0.333601</td>\n      <td>-0.069756</td>\n      <td>0.826239</td>\n    </tr>\n    <tr>\n      <th>2</th>\n      <td>2014-03-16 18:58:58</td>\n      <td>-74.015785</td>\n      <td>40.715110</td>\n      <td>-74.012029</td>\n      <td>40.707888</td>\n      <td>2</td>\n      <td>2014</td>\n      <td>3</td>\n      <td>16</td>\n      <td>18</td>\n      <td>58</td>\n      <td>58</td>\n      <td>0</td>\n      <td>11</td>\n      <td>-0.967083</td>\n      <td>-0.965926</td>\n      <td>0.623490</td>\n    </tr>\n    <tr>\n      <th>3</th>\n      <td>2009-06-13 16:10:54</td>\n      <td>-73.977322</td>\n      <td>40.787275</td>\n      <td>-73.958030</td>\n      <td>40.778838</td>\n      <td>3</td>\n      <td>2009</td>\n      <td>6</td>\n      <td>13</td>\n      <td>16</td>\n      <td>10</td>\n      <td>54</td>\n      <td>6</td>\n      <td>23</td>\n      <td>-0.888817</td>\n      <td>0.961262</td>\n      <td>-0.294755</td>\n    </tr>\n    <tr>\n      <th>4</th>\n      <td>2014-06-12 03:25:56</td>\n      <td>-73.989683</td>\n      <td>40.729717</td>\n      <td>-73.982490</td>\n      <td>40.761887</td>\n      <td>3</td>\n      <td>2014</td>\n      <td>6</td>\n      <td>12</td>\n      <td>3</td>\n      <td>25</td>\n      <td>56</td>\n      <td>4</td>\n      <td>23</td>\n      <td>0.782427</td>\n      <td>0.956305</td>\n      <td>-0.532032</td>\n    </tr>\n  </tbody>\n</table>\n</div>"
     },
     "metadata": {},
     "execution_count": 17
    }
   ],
   "source": [
    "# 加上\"月週期\"\n",
    "\n",
    "df['Month_cycle'] = df['day_of_week']/3.5 + df['pickup_hour']/84\n",
    "df['Month_cycle'] = df['Month_cycle'].map( lambda x: math.sin( x * math.pi ) )\n",
    "#######################\n",
    "'''\n",
    "月週期 = sin[ ( 星期幾/3.5 + 小時/84 ) ]\n",
    "# 小時 : 星期小時 # 但答案不用此-呵呵\n",
    "'''\n",
    "#######################\n",
    "df.head()"
   ]
  },
  {
   "cell_type": "code",
   "execution_count": 18,
   "metadata": {
    "collapsed": true
   },
   "outputs": [
    {
     "output_type": "stream",
     "name": "stdout",
     "text": [
      "Linear Reg Score : 0.02904012297923413\n",
      "Gradient Boosting Reg Score : 0.7114440645910214\n"
     ]
    }
   ],
   "source": [
    "# 將結果使用線性迴歸 / 梯度提升樹分別看結果\n",
    "df_temp = df.drop(['pickup_datetime'] , axis=1)                                             # 刪去總日期時間欄位\n",
    "train_X = scaler.fit_transform(df_temp)                                                     # 最大最小化\n",
    "print(f'Linear Reg Score : {cross_val_score(Linear, train_X, train_Y, cv=5).mean()}')       # 線性回歸分數\n",
    "print(f'Gradient Boosting Reg Score : {cross_val_score(GDBT, train_X, train_Y, cv=5).mean()}')  # 梯度提升樹分數"
   ]
  },
  {
   "cell_type": "code",
   "execution_count": null,
   "metadata": {
    "collapsed": true
   },
   "outputs": [],
   "source": []
  }
 ],
 "metadata": {
  "kernelspec": {
   "name": "python3",
   "display_name": "Python 3.7.6 64-bit ('base': conda)"
  },
  "language_info": {
   "codemirror_mode": {
    "name": "ipython",
    "version": 3
   },
   "file_extension": ".py",
   "mimetype": "text/x-python",
   "name": "python",
   "nbconvert_exporter": "python",
   "pygments_lexer": "ipython3",
   "version": "3.7.6"
  },
  "interpreter": {
   "hash": "02963059bcfe9ec13866d8bbde8ec3e30f8393cff7234988bdd62b85a7bebcd1"
  }
 },
 "nbformat": 4,
 "nbformat_minor": 2
}